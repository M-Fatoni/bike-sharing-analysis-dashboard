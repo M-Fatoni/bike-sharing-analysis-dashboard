{
 "cells": [
  {
   "cell_type": "markdown",
   "id": "1a65b03b",
   "metadata": {},
   "source": [
    "# 🚴Bike Rental Analysis Dashboard "
   ]
  },
  {
   "cell_type": "markdown",
   "id": "4e94b492",
   "metadata": {},
   "source": [
    "Dashboard interaktif ini dibuat untuk menganalisis pola penyewaan sepeda berdasarkan berbagai faktor seperti musim, jam, hari kerja, dan kondisi cuaca."
   ]
  },
  {
   "cell_type": "markdown",
   "id": "acd0cbdf",
   "metadata": {},
   "source": [
    "## 📦 Struktur Direktori"
   ]
  },
  {
   "cell_type": "markdown",
   "id": "2892a8c5",
   "metadata": {},
   "source": [
    "submission\n",
    "├───dashboard\n",
    "│   ├───main_data.csv\n",
    "│   └───dashboard.py\n",
    "├───data\n",
    "│   ├───data_1.csv\n",
    "│   └───data_2.csv\n",
    "├───notebook.ipynb\n",
    "├───README.md\n",
    "├───requirements.txt\n",
    "└───url.txt\n"
   ]
  },
  {
   "cell_type": "markdown",
   "id": "edd10495",
   "metadata": {},
   "source": [
    "## ⚙️ Setup Environment"
   ]
  },
  {
   "cell_type": "markdown",
   "id": "80c0374b",
   "metadata": {},
   "source": [
    "### Menggunakan Anaconda"
   ]
  },
  {
   "cell_type": "markdown",
   "id": "f07a6ec7",
   "metadata": {},
   "source": [
    "conda create --name bike-rental python=3.9\n",
    "conda activate bike-rental\n",
    "pip install -r requirements.txt"
   ]
  },
  {
   "cell_type": "markdown",
   "id": "d22d7dda",
   "metadata": {},
   "source": [
    "### Menggunakan Shell/Terminal (Tanpa Anaconda)"
   ]
  },
  {
   "cell_type": "markdown",
   "id": "38d39dd9",
   "metadata": {},
   "source": [
    "mkdir bike_rental_project\n",
    "cd bike_rental_project\n",
    "pipenv install\n",
    "pipenv shell\n",
    "pip install -r requirements.txt"
   ]
  },
  {
   "cell_type": "markdown",
   "id": "2fc38f9a",
   "metadata": {},
   "source": [
    "## 🚀 Menjalankan Dashboard Streamlit"
   ]
  },
  {
   "cell_type": "markdown",
   "id": "769c9f06",
   "metadata": {},
   "source": [
    "streamlit run dashboard/dashboard.py"
   ]
  },
  {
   "cell_type": "markdown",
   "id": "d9e4000b",
   "metadata": {},
   "source": [
    "## 📊 Fitur Analisis"
   ]
  },
  {
   "cell_type": "markdown",
   "id": "59e0baca",
   "metadata": {},
   "source": [
    "- ✅ Peminjaman Sepeda Berdasarkan Musim\n",
    "- ✅ Pola Penyewaan Sepeda Berdasarkan Waktu\n",
    "- ✅ Perbedaan Penyewaan antara Hari Kerja & Hari Libur\n",
    "- ✅ Dampak Kondisi Cuaca terhadap Penyewaan Sepeda\n",
    "- ✅ Tren Penyewaan Sepeda Berdasarkan Jam\n",
    "- ✅ Kesimpulan & Strategi Bisnis"
   ]
  }
 ],
 "metadata": {
  "kernelspec": {
   "display_name": "Python 3 (ipykernel)",
   "language": "python",
   "name": "python3"
  },
  "language_info": {
   "codemirror_mode": {
    "name": "ipython",
    "version": 3
   },
   "file_extension": ".py",
   "mimetype": "text/x-python",
   "name": "python",
   "nbconvert_exporter": "python",
   "pygments_lexer": "ipython3",
   "version": "3.10.4"
  }
 },
 "nbformat": 4,
 "nbformat_minor": 5
}
