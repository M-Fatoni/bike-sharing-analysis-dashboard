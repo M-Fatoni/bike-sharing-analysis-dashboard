{
 "cells": [
  {
   "cell_type": "markdown",
   "id": "e533dc51",
   "metadata": {},
   "source": [
    "# 🚴 Bike Rental Analysis Dashboard ✨"
   ]
  },
  {
   "cell_type": "markdown",
   "id": "ea415372",
   "metadata": {},
   "source": [
    "Dashboard interaktif ini dibuat untuk menganalisis pola penyewaan sepeda berdasarkan berbagai faktor seperti musim, jam, hari kerja, dan kondisi cuaca."
   ]
  },
  {
   "cell_type": "markdown",
   "id": "2e2acc1f",
   "metadata": {},
   "source": [
    "## 📦 Struktur Direktori"
   ]
  },
  {
   "cell_type": "markdown",
   "id": "41562473",
   "metadata": {},
   "source": [
    "submission\n",
    "├───dashboard\n",
    "│   ├───main_data.csv\n",
    "│   └───dashboard.py\n",
    "├───data\n",
    "│   ├───data_1.csv\n",
    "│   └───data_2.csv\n",
    "├───notebook.ipynb\n",
    "├───README.md\n",
    "├───requirements.txt\n",
    "└───url.txt"
   ]
  },
  {
   "cell_type": "markdown",
   "id": "f6d8bbc4",
   "metadata": {},
   "source": [
    "## ⚙️ Setup Environment"
   ]
  },
  {
   "cell_type": "markdown",
   "id": "0256f970",
   "metadata": {},
   "source": [
    "### Menggunakan Anaconda"
   ]
  },
  {
   "cell_type": "code",
   "execution_count": null,
   "id": "61d016d1",
   "metadata": {},
   "outputs": [],
   "source": [
    "conda create --name bike-rental python=3.9\n",
    "conda activate bike-rental\n",
    "pip install -r requirements.txt"
   ]
  },
  {
   "cell_type": "markdown",
   "id": "27e5573d",
   "metadata": {},
   "source": [
    "### Menggunakan Shell/Terminal (Tanpa Anaconda)"
   ]
  },
  {
   "cell_type": "code",
   "execution_count": null,
   "id": "aa6b2bba",
   "metadata": {},
   "outputs": [],
   "source": [
    "mkdir bike_rental_project\n",
    "cd bike_rental_project\n",
    "pipenv install\n",
    "pipenv shell\n",
    "pip install -r requirements.txt"
   ]
  },
  {
   "cell_type": "markdown",
   "id": "b7464a2a",
   "metadata": {},
   "source": [
    "## 🚀 Menjalankan Dashboard Streamlit"
   ]
  },
  {
   "cell_type": "markdown",
   "id": "22d597a6",
   "metadata": {},
   "source": [
    "streamlit run dashboard/dashboard.py"
   ]
  },
  {
   "cell_type": "markdown",
   "id": "1727816d",
   "metadata": {},
   "source": [
    "## 📊 Fitur Analisis"
   ]
  },
  {
   "cell_type": "markdown",
   "id": "d357dd40",
   "metadata": {},
   "source": [
    "- ✅ Peminjaman Sepeda Berdasarkan Musim\n",
    "- ✅ Pola Penyewaan Sepeda Berdasarkan Waktu\n",
    "- ✅ Perbedaan Penyewaan antara Hari Kerja & Hari Libur\n",
    "- ✅ Dampak Kondisi Cuaca terhadap Penyewaan Sepeda\n",
    "- ✅ Tren Penyewaan Sepeda Berdasarkan Jam\n",
    "- ✅ Kesimpulan & Strategi Bisnis"
   ]
  }
 ],
 "metadata": {
  "kernelspec": {
   "display_name": "Python 3 (ipykernel)",
   "language": "python",
   "name": "python3"
  },
  "language_info": {
   "codemirror_mode": {
    "name": "ipython",
    "version": 3
   },
   "file_extension": ".py",
   "mimetype": "text/x-python",
   "name": "python",
   "nbconvert_exporter": "python",
   "pygments_lexer": "ipython3",
   "version": "3.10.4"
  }
 },
 "nbformat": 4,
 "nbformat_minor": 5
}
